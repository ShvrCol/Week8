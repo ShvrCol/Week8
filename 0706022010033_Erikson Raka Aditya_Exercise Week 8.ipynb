{
 "cells": [
  {
   "cell_type": "markdown",
   "id": "b28dcf95",
   "metadata": {},
   "source": [
    "# Exercise Week 8:Clustering"
   ]
  },
  {
   "cell_type": "markdown",
   "id": "e919c922",
   "metadata": {},
   "source": [
    "Import library yang dibutuhkan"
   ]
  },
  {
   "cell_type": "code",
   "execution_count": 351,
   "id": "7b761008",
   "metadata": {},
   "outputs": [],
   "source": [
    "import numpy as np\n",
    "import pandas as pd\n",
    "from matplotlib import pyplot as plt\n",
    "from sklearn.preprocessing import StandardScaler\n",
    "from sklearn.preprocessing import LabelEncoder\n",
    "import seaborn\n",
    "from sklearn.cluster import KMeans\n",
    "from sklearn.datasets import make_blobs\n",
    "from kneed import KneeLocator\n",
    "from scipy.cluster.hierarchy import dendrogram, linkage\n",
    "import statistics\n",
    "from sklearn.cluster import AgglomerativeClustering"
   ]
  },
  {
   "cell_type": "code",
   "execution_count": 352,
   "id": "3451dc41",
   "metadata": {},
   "outputs": [
    {
     "data": {
      "text/html": [
       "<div>\n",
       "<style scoped>\n",
       "    .dataframe tbody tr th:only-of-type {\n",
       "        vertical-align: middle;\n",
       "    }\n",
       "\n",
       "    .dataframe tbody tr th {\n",
       "        vertical-align: top;\n",
       "    }\n",
       "\n",
       "    .dataframe thead th {\n",
       "        text-align: right;\n",
       "    }\n",
       "</style>\n",
       "<table border=\"1\" class=\"dataframe\">\n",
       "  <thead>\n",
       "    <tr style=\"text-align: right;\">\n",
       "      <th></th>\n",
       "      <th>Area Category</th>\n",
       "      <th>Nama Daerah</th>\n",
       "      <th>Luas Tanah (m2)</th>\n",
       "      <th>Luas Bangunan (m2)</th>\n",
       "      <th>Jumlah Kamar</th>\n",
       "      <th>Jumlah Kamar Mandi</th>\n",
       "      <th>Tingkat/Lantai</th>\n",
       "      <th>Harga Penawaran (dari Owner)</th>\n",
       "      <th>Terjual/Belum</th>\n",
       "      <th>Arah Hadap Rumah</th>\n",
       "      <th>Posisi Rumah</th>\n",
       "      <th>Lebar Jalan Depan Rumah (ROW)</th>\n",
       "    </tr>\n",
       "  </thead>\n",
       "  <tbody>\n",
       "    <tr>\n",
       "      <th>0</th>\n",
       "      <td>NaN</td>\n",
       "      <td>NaN</td>\n",
       "      <td>NaN</td>\n",
       "      <td>NaN</td>\n",
       "      <td>NaN</td>\n",
       "      <td>NaN</td>\n",
       "      <td>NaN</td>\n",
       "      <td>NaN</td>\n",
       "      <td>NaN</td>\n",
       "      <td>NaN</td>\n",
       "      <td>NaN</td>\n",
       "      <td>NaN</td>\n",
       "    </tr>\n",
       "    <tr>\n",
       "      <th>1</th>\n",
       "      <td>Below Standard</td>\n",
       "      <td>Setro Baru Utara</td>\n",
       "      <td>30.0</td>\n",
       "      <td>60.0</td>\n",
       "      <td>2.0</td>\n",
       "      <td>1.0</td>\n",
       "      <td>2.0</td>\n",
       "      <td>287799000</td>\n",
       "      <td>Belum</td>\n",
       "      <td>NaN</td>\n",
       "      <td>Standard</td>\n",
       "      <td>&lt; 1 Mobil</td>\n",
       "    </tr>\n",
       "    <tr>\n",
       "      <th>2</th>\n",
       "      <td>Standard</td>\n",
       "      <td>Kenjeran</td>\n",
       "      <td>170.0</td>\n",
       "      <td>170.0</td>\n",
       "      <td>5.0</td>\n",
       "      <td>4.0</td>\n",
       "      <td>2.0</td>\n",
       "      <td>2699999999</td>\n",
       "      <td>Belum</td>\n",
       "      <td>Selatan</td>\n",
       "      <td>Cul De Sac/Ujung Gang Buntu</td>\n",
       "      <td>1-2 Mobil</td>\n",
       "    </tr>\n",
       "    <tr>\n",
       "      <th>3</th>\n",
       "      <td>Sangat Premium</td>\n",
       "      <td>Kenjeran</td>\n",
       "      <td>187.0</td>\n",
       "      <td>250.0</td>\n",
       "      <td>5.0</td>\n",
       "      <td>5.0</td>\n",
       "      <td>2.0</td>\n",
       "      <td>3100000000</td>\n",
       "      <td>Belum</td>\n",
       "      <td>Utara</td>\n",
       "      <td>Standard</td>\n",
       "      <td>1-2 Mobil</td>\n",
       "    </tr>\n",
       "    <tr>\n",
       "      <th>4</th>\n",
       "      <td>Premium</td>\n",
       "      <td>Kenjeran</td>\n",
       "      <td>350.0</td>\n",
       "      <td>600.0</td>\n",
       "      <td>5.0</td>\n",
       "      <td>5.0</td>\n",
       "      <td>2.0</td>\n",
       "      <td>5000000000</td>\n",
       "      <td>Belum</td>\n",
       "      <td>Barat</td>\n",
       "      <td>Standard</td>\n",
       "      <td>1-2 Mobil</td>\n",
       "    </tr>\n",
       "  </tbody>\n",
       "</table>\n",
       "</div>"
      ],
      "text/plain": [
       "    Area Category       Nama Daerah  Luas Tanah (m2)  Luas Bangunan (m2)  \\\n",
       "0             NaN               NaN              NaN                 NaN   \n",
       "1  Below Standard  Setro Baru Utara             30.0                60.0   \n",
       "2        Standard          Kenjeran            170.0               170.0   \n",
       "3  Sangat Premium          Kenjeran            187.0               250.0   \n",
       "4         Premium          Kenjeran            350.0               600.0   \n",
       "\n",
       "   Jumlah Kamar  Jumlah Kamar Mandi  Tingkat/Lantai   \\\n",
       "0           NaN                 NaN              NaN   \n",
       "1           2.0                 1.0              2.0   \n",
       "2           5.0                 4.0              2.0   \n",
       "3           5.0                 5.0              2.0   \n",
       "4           5.0                 5.0              2.0   \n",
       "\n",
       "  Harga Penawaran (dari Owner) Terjual/Belum Arah Hadap Rumah  \\\n",
       "0                          NaN           NaN              NaN   \n",
       "1                    287799000         Belum              NaN   \n",
       "2                   2699999999         Belum          Selatan   \n",
       "3                   3100000000         Belum            Utara   \n",
       "4                   5000000000         Belum            Barat   \n",
       "\n",
       "                  Posisi Rumah Lebar Jalan Depan Rumah (ROW)  \n",
       "0                          NaN                           NaN  \n",
       "1                     Standard                     < 1 Mobil  \n",
       "2  Cul De Sac/Ujung Gang Buntu                     1-2 Mobil  \n",
       "3                     Standard                     1-2 Mobil  \n",
       "4                     Standard                     1-2 Mobil  "
      ]
     },
     "execution_count": 352,
     "metadata": {},
     "output_type": "execute_result"
    }
   ],
   "source": [
    "#import dataset\n",
    "url = 'https://raw.githubusercontent.com/ShvrCol/Week8/main/Property%20Dataset%20-%20Clustering%20-%20Data%20Rumah.csv'\n",
    "df = pd.read_csv(url)\n",
    "df.head()"
   ]
  },
  {
   "cell_type": "code",
   "execution_count": 353,
   "id": "4f5d73cf",
   "metadata": {},
   "outputs": [
    {
     "data": {
      "text/plain": [
       "Area Category                      0\n",
       "Nama Daerah                        0\n",
       "Luas Tanah (m2)                    0\n",
       "Luas Bangunan (m2)                 0\n",
       "Jumlah Kamar                       0\n",
       "Jumlah Kamar Mandi                 1\n",
       "Tingkat/Lantai                     1\n",
       "Harga Penawaran (dari Owner)       0\n",
       "Terjual/Belum                      0\n",
       "Arah Hadap Rumah                  82\n",
       "Posisi Rumah                     115\n",
       "Lebar Jalan Depan Rumah (ROW)     41\n",
       "dtype: int64"
      ]
     },
     "execution_count": 353,
     "metadata": {},
     "output_type": "execute_result"
    }
   ],
   "source": [
    "#drop row 0\n",
    "df.drop(0, axis = 0, inplace = True)\n",
    "df.isna().sum()"
   ]
  },
  {
   "cell_type": "code",
   "execution_count": 354,
   "id": "e0eb948e",
   "metadata": {
    "scrolled": true
   },
   "outputs": [
    {
     "data": {
      "text/plain": [
       "Area Category                      0\n",
       "Nama Daerah                        0\n",
       "Luas Tanah (m2)                    0\n",
       "Luas Bangunan (m2)                 0\n",
       "Jumlah Kamar                       0\n",
       "Jumlah Kamar Mandi                 0\n",
       "Tingkat/Lantai                     0\n",
       "Harga Penawaran (dari Owner)       0\n",
       "Terjual/Belum                      0\n",
       "Arah Hadap Rumah                  82\n",
       "Posisi Rumah                     115\n",
       "Lebar Jalan Depan Rumah (ROW)     41\n",
       "dtype: int64"
      ]
     },
     "execution_count": 354,
     "metadata": {},
     "output_type": "execute_result"
    }
   ],
   "source": [
    "#fill missing value in columns\n",
    "df_new = df.interpolate(method = 'linear')\n",
    "df_new.isna().sum()"
   ]
  },
  {
   "cell_type": "code",
   "execution_count": 355,
   "id": "0449169c",
   "metadata": {},
   "outputs": [],
   "source": [
    "#fill missing value in columns\n",
    "df_new['Arah Hadap Rumah'].fillna(value = 'Utara', inplace = True)\n",
    "df_new = df_new[df_new['Harga Penawaran (dari Owner)'] != \" \"]"
   ]
  },
  {
   "cell_type": "code",
   "execution_count": 356,
   "id": "4ab1e13c",
   "metadata": {},
   "outputs": [
    {
     "data": {
      "text/plain": [
       "Area Category                    False\n",
       "Nama Daerah                      False\n",
       "Luas Tanah (m2)                  False\n",
       "Luas Bangunan (m2)               False\n",
       "Jumlah Kamar                     False\n",
       "Jumlah Kamar Mandi               False\n",
       "Tingkat/Lantai                   False\n",
       "Harga Penawaran (dari Owner)     False\n",
       "Terjual/Belum                    False\n",
       "Arah Hadap Rumah                 False\n",
       "Posisi Rumah                      True\n",
       "Lebar Jalan Depan Rumah (ROW)     True\n",
       "dtype: bool"
      ]
     },
     "execution_count": 356,
     "metadata": {},
     "output_type": "execute_result"
    }
   ],
   "source": [
    "#check missing value\n",
    "df_new.isna().any()"
   ]
  },
  {
   "cell_type": "code",
   "execution_count": 357,
   "id": "7fe25bf2",
   "metadata": {},
   "outputs": [],
   "source": [
    "#convert float or str to int\n",
    "df_new['Luas Tanah (m2)'] = df_new['Luas Tanah (m2)'].astype(int)\n",
    "df_new['Jumlah Kamar'] = df_new['Jumlah Kamar'].astype(int)\n",
    "df_new['Jumlah Kamar Mandi'] = df_new['Jumlah Kamar Mandi'].astype(int)\n",
    "df_new['Tingkat/Lantai '] = df_new['Tingkat/Lantai '].astype(int)\n",
    "df_new['Luas Bangunan (m2)'] = df_new['Luas Bangunan (m2)'].astype(int)\n",
    "df_new['Harga Penawaran (dari Owner)'] = pd.to_numeric(df_new['Harga Penawaran (dari Owner)'])"
   ]
  },
  {
   "cell_type": "code",
   "execution_count": 358,
   "id": "1fcccaf6",
   "metadata": {},
   "outputs": [],
   "source": [
    "#Label Encoder\n",
    "le = LabelEncoder()\n",
    "df_new['Area Category'] = le.fit_transform(df_new['Area Category'])\n",
    "df_new['Nama Daerah'] = le.fit_transform(df_new['Nama Daerah'])\n",
    "df_new['Luas Bangunan (m2)'] = le.fit_transform(df_new['Luas Bangunan (m2)'])\n",
    "df_new['Terjual/Belum'] = le.fit_transform(df_new['Terjual/Belum'])\n",
    "df_new['Arah Hadap Rumah'] = le.fit_transform(df_new['Arah Hadap Rumah'])\n",
    "df_new['Posisi Rumah'] = le.fit_transform(df_new['Posisi Rumah'])\n",
    "df_new['Lebar Jalan Depan Rumah (ROW)'] = le.fit_transform(df_new['Lebar Jalan Depan Rumah (ROW)'])"
   ]
  },
  {
   "cell_type": "code",
   "execution_count": 359,
   "id": "cbc6be1e",
   "metadata": {},
   "outputs": [
    {
     "data": {
      "text/html": [
       "<div>\n",
       "<style scoped>\n",
       "    .dataframe tbody tr th:only-of-type {\n",
       "        vertical-align: middle;\n",
       "    }\n",
       "\n",
       "    .dataframe tbody tr th {\n",
       "        vertical-align: top;\n",
       "    }\n",
       "\n",
       "    .dataframe thead th {\n",
       "        text-align: right;\n",
       "    }\n",
       "</style>\n",
       "<table border=\"1\" class=\"dataframe\">\n",
       "  <thead>\n",
       "    <tr style=\"text-align: right;\">\n",
       "      <th></th>\n",
       "      <th>Area Category</th>\n",
       "      <th>Nama Daerah</th>\n",
       "      <th>Luas Tanah (m2)</th>\n",
       "      <th>Luas Bangunan (m2)</th>\n",
       "      <th>Jumlah Kamar</th>\n",
       "      <th>Jumlah Kamar Mandi</th>\n",
       "      <th>Tingkat/Lantai</th>\n",
       "      <th>Harga Penawaran (dari Owner)</th>\n",
       "      <th>Terjual/Belum</th>\n",
       "      <th>Arah Hadap Rumah</th>\n",
       "      <th>Posisi Rumah</th>\n",
       "      <th>Lebar Jalan Depan Rumah (ROW)</th>\n",
       "    </tr>\n",
       "  </thead>\n",
       "  <tbody>\n",
       "    <tr>\n",
       "      <th>0</th>\n",
       "      <td>-1.671343</td>\n",
       "      <td>1.044023</td>\n",
       "      <td>-0.974919</td>\n",
       "      <td>-1.476166</td>\n",
       "      <td>-1.381932</td>\n",
       "      <td>-1.430674</td>\n",
       "      <td>0.314847</td>\n",
       "      <td>-0.566622</td>\n",
       "      <td>0.0</td>\n",
       "      <td>0.840004</td>\n",
       "      <td>-0.828763</td>\n",
       "      <td>-0.164754</td>\n",
       "    </tr>\n",
       "    <tr>\n",
       "      <th>1</th>\n",
       "      <td>1.010987</td>\n",
       "      <td>-0.368844</td>\n",
       "      <td>-0.282302</td>\n",
       "      <td>-0.284406</td>\n",
       "      <td>0.440789</td>\n",
       "      <td>0.411344</td>\n",
       "      <td>0.314847</td>\n",
       "      <td>-0.276647</td>\n",
       "      <td>0.0</td>\n",
       "      <td>-1.137237</td>\n",
       "      <td>-2.210789</td>\n",
       "      <td>-1.033974</td>\n",
       "    </tr>\n",
       "    <tr>\n",
       "      <th>2</th>\n",
       "      <td>0.116877</td>\n",
       "      <td>-0.368844</td>\n",
       "      <td>-0.198198</td>\n",
       "      <td>0.311474</td>\n",
       "      <td>0.440789</td>\n",
       "      <td>1.025350</td>\n",
       "      <td>0.314847</td>\n",
       "      <td>-0.228562</td>\n",
       "      <td>0.0</td>\n",
       "      <td>0.840004</td>\n",
       "      <td>-0.828763</td>\n",
       "      <td>-1.033974</td>\n",
       "    </tr>\n",
       "    <tr>\n",
       "      <th>3</th>\n",
       "      <td>-0.777233</td>\n",
       "      <td>-0.368844</td>\n",
       "      <td>0.608207</td>\n",
       "      <td>1.473440</td>\n",
       "      <td>0.440789</td>\n",
       "      <td>1.025350</td>\n",
       "      <td>0.314847</td>\n",
       "      <td>-0.000159</td>\n",
       "      <td>0.0</td>\n",
       "      <td>-2.125857</td>\n",
       "      <td>-0.828763</td>\n",
       "      <td>-1.033974</td>\n",
       "    </tr>\n",
       "    <tr>\n",
       "      <th>4</th>\n",
       "      <td>-0.777233</td>\n",
       "      <td>-0.368844</td>\n",
       "      <td>1.102934</td>\n",
       "      <td>1.384058</td>\n",
       "      <td>0.440789</td>\n",
       "      <td>1.639356</td>\n",
       "      <td>0.314847</td>\n",
       "      <td>0.697071</td>\n",
       "      <td>0.0</td>\n",
       "      <td>0.840004</td>\n",
       "      <td>-0.828763</td>\n",
       "      <td>-1.033974</td>\n",
       "    </tr>\n",
       "  </tbody>\n",
       "</table>\n",
       "</div>"
      ],
      "text/plain": [
       "   Area Category  Nama Daerah  Luas Tanah (m2)  Luas Bangunan (m2)  \\\n",
       "0      -1.671343     1.044023        -0.974919           -1.476166   \n",
       "1       1.010987    -0.368844        -0.282302           -0.284406   \n",
       "2       0.116877    -0.368844        -0.198198            0.311474   \n",
       "3      -0.777233    -0.368844         0.608207            1.473440   \n",
       "4      -0.777233    -0.368844         1.102934            1.384058   \n",
       "\n",
       "   Jumlah Kamar  Jumlah Kamar Mandi  Tingkat/Lantai  \\\n",
       "0     -1.381932           -1.430674        0.314847   \n",
       "1      0.440789            0.411344        0.314847   \n",
       "2      0.440789            1.025350        0.314847   \n",
       "3      0.440789            1.025350        0.314847   \n",
       "4      0.440789            1.639356        0.314847   \n",
       "\n",
       "   Harga Penawaran (dari Owner)  Terjual/Belum  Arah Hadap Rumah  \\\n",
       "0                     -0.566622            0.0          0.840004   \n",
       "1                     -0.276647            0.0         -1.137237   \n",
       "2                     -0.228562            0.0          0.840004   \n",
       "3                     -0.000159            0.0         -2.125857   \n",
       "4                      0.697071            0.0          0.840004   \n",
       "\n",
       "   Posisi Rumah  Lebar Jalan Depan Rumah (ROW)  \n",
       "0     -0.828763                      -0.164754  \n",
       "1     -2.210789                      -1.033974  \n",
       "2     -0.828763                      -1.033974  \n",
       "3     -0.828763                      -1.033974  \n",
       "4     -0.828763                      -1.033974  "
      ]
     },
     "execution_count": 359,
     "metadata": {},
     "output_type": "execute_result"
    }
   ],
   "source": [
    "#scaling\n",
    "sd_scaler = StandardScaler()\n",
    "df_scale = sd_scaler.fit_transform(df_new.to_numpy())\n",
    "df_scale = pd.DataFrame(df_scale, columns=['Area Category','Nama Daerah','Luas Tanah (m2)','Luas Bangunan (m2)','Jumlah Kamar','Jumlah Kamar Mandi','Tingkat/Lantai','Harga Penawaran (dari Owner)','Terjual/Belum','Arah Hadap Rumah','Posisi Rumah','Lebar Jalan Depan Rumah (ROW)'])\n",
    "df_scale.head()"
   ]
  },
  {
   "cell_type": "code",
   "execution_count": 360,
   "id": "8139d7d4",
   "metadata": {},
   "outputs": [
    {
     "name": "stderr",
     "output_type": "stream",
     "text": [
      "C:\\Users\\Erikson\\anaconda3\\lib\\site-packages\\sklearn\\cluster\\_kmeans.py:881: UserWarning: KMeans is known to have a memory leak on Windows with MKL, when there are less chunks than available threads. You can avoid it by setting the environment variable OMP_NUM_THREADS=2.\n",
      "  warnings.warn(\n"
     ]
    }
   ],
   "source": [
    "# set the parameter for evaluating K\n",
    "SSE = []\n",
    "# check the inertia for each K\n",
    "K = range(1,11)\n",
    "for num_clusters in K :\n",
    " kmeans = KMeans(n_clusters=num_clusters)\n",
    " kmeans.fit(df_new)\n",
    " SSE.append(kmeans.inertia_)"
   ]
  },
  {
   "cell_type": "code",
   "execution_count": 361,
   "id": "f3ceca14",
   "metadata": {},
   "outputs": [
    {
     "data": {
      "image/png": "[encoded data removed]",
      "text/plain": [
       "<Figure size 432x288 with 1 Axes>"
      ]
     },
     "metadata": {
      "needs_background": "light"
     },
     "output_type": "display_data"
    }
   ],
   "source": [
    "#display elbow knee\n",
    "plt.plot(K, SSE,'bx-')\n",
    "plt.xlabel('Numbers of Clusters') \n",
    "plt.ylabel('SSE') \n",
    "plt.show()"
   ]
  },
  {
   "cell_type": "code",
   "execution_count": 362,
   "id": "bc385412",
   "metadata": {},
   "outputs": [
    {
     "name": "stdout",
     "output_type": "stream",
     "text": [
      "Elbow/Knee:  3\n"
     ]
    }
   ],
   "source": [
    "#Summarize the Analysis Result\n",
    "k = KneeLocator(range(1,11), SSE, curve='convex', direction='decreasing')\n",
    "print('Elbow/Knee: ', k.elbow)"
   ]
  },
  {
   "cell_type": "code",
   "execution_count": 363,
   "id": "1b0ec249",
   "metadata": {},
   "outputs": [],
   "source": [
    "#Clustering Model K-Means\n",
    "kmeans = KMeans(n_clusters=5, random_state = 0, init = 'random', max_iter=100)\n",
    "y_kmeans = kmeans.fit_predict(df_scale)\n",
    "y_kmeans\n",
    "df_new['K Means'] = y_kmeans"
   ]
  },
  {
   "cell_type": "code",
   "execution_count": 364,
   "id": "79a56840",
   "metadata": {},
   "outputs": [
    {
     "data": {
      "text/html": [
       "<div>\n",
       "<style scoped>\n",
       "    .dataframe tbody tr th:only-of-type {\n",
       "        vertical-align: middle;\n",
       "    }\n",
       "\n",
       "    .dataframe tbody tr th {\n",
       "        vertical-align: top;\n",
       "    }\n",
       "\n",
       "    .dataframe thead th {\n",
       "        text-align: right;\n",
       "    }\n",
       "</style>\n",
       "<table border=\"1\" class=\"dataframe\">\n",
       "  <thead>\n",
       "    <tr style=\"text-align: right;\">\n",
       "      <th></th>\n",
       "      <th>area_category</th>\n",
       "      <th>nama_daerah</th>\n",
       "      <th>luas_tanah</th>\n",
       "      <th>luas_bangunan</th>\n",
       "      <th>jumlah_kamar</th>\n",
       "      <th>jumlah_kamar_mandi</th>\n",
       "      <th>tingkat_lantai</th>\n",
       "      <th>harga_penawaran</th>\n",
       "      <th>terjual_belum</th>\n",
       "      <th>arah_hadapan_rumah</th>\n",
       "      <th>posisi_rumah</th>\n",
       "      <th>lebar_jalan_depan_rumah</th>\n",
       "      <th>Count</th>\n",
       "    </tr>\n",
       "    <tr>\n",
       "      <th>K Means</th>\n",
       "      <th></th>\n",
       "      <th></th>\n",
       "      <th></th>\n",
       "      <th></th>\n",
       "      <th></th>\n",
       "      <th></th>\n",
       "      <th></th>\n",
       "      <th></th>\n",
       "      <th></th>\n",
       "      <th></th>\n",
       "      <th></th>\n",
       "      <th></th>\n",
       "      <th></th>\n",
       "    </tr>\n",
       "  </thead>\n",
       "  <tbody>\n",
       "    <tr>\n",
       "      <th>0</th>\n",
       "      <td>3</td>\n",
       "      <td>11</td>\n",
       "      <td>131.058824</td>\n",
       "      <td>32.823529</td>\n",
       "      <td>3.196078</td>\n",
       "      <td>2.254902</td>\n",
       "      <td>1.450980</td>\n",
       "      <td>1.839275e+09</td>\n",
       "      <td>0</td>\n",
       "      <td>1</td>\n",
       "      <td>5</td>\n",
       "      <td>2.117647</td>\n",
       "      <td>51</td>\n",
       "    </tr>\n",
       "    <tr>\n",
       "      <th>1</th>\n",
       "      <td>3</td>\n",
       "      <td>30</td>\n",
       "      <td>84.870968</td>\n",
       "      <td>22.951613</td>\n",
       "      <td>2.564516</td>\n",
       "      <td>1.693548</td>\n",
       "      <td>1.612903</td>\n",
       "      <td>1.211806e+09</td>\n",
       "      <td>0</td>\n",
       "      <td>3</td>\n",
       "      <td>2</td>\n",
       "      <td>0.387097</td>\n",
       "      <td>62</td>\n",
       "    </tr>\n",
       "    <tr>\n",
       "      <th>2</th>\n",
       "      <td>1</td>\n",
       "      <td>11</td>\n",
       "      <td>252.151515</td>\n",
       "      <td>78.484848</td>\n",
       "      <td>4.954545</td>\n",
       "      <td>4.181818</td>\n",
       "      <td>2.015152</td>\n",
       "      <td>4.684742e+09</td>\n",
       "      <td>0</td>\n",
       "      <td>3</td>\n",
       "      <td>5</td>\n",
       "      <td>2.272727</td>\n",
       "      <td>66</td>\n",
       "    </tr>\n",
       "    <tr>\n",
       "      <th>3</th>\n",
       "      <td>3</td>\n",
       "      <td>73</td>\n",
       "      <td>183.477273</td>\n",
       "      <td>64.522727</td>\n",
       "      <td>4.704545</td>\n",
       "      <td>3.625000</td>\n",
       "      <td>2.056818</td>\n",
       "      <td>3.244681e+09</td>\n",
       "      <td>0</td>\n",
       "      <td>3</td>\n",
       "      <td>2</td>\n",
       "      <td>0.318182</td>\n",
       "      <td>88</td>\n",
       "    </tr>\n",
       "    <tr>\n",
       "      <th>4</th>\n",
       "      <td>2</td>\n",
       "      <td>[11, 28]</td>\n",
       "      <td>634.538462</td>\n",
       "      <td>109.384615</td>\n",
       "      <td>6.282051</td>\n",
       "      <td>5.230769</td>\n",
       "      <td>1.923077</td>\n",
       "      <td>1.966013e+10</td>\n",
       "      <td>0</td>\n",
       "      <td>3</td>\n",
       "      <td>[2, 5]</td>\n",
       "      <td>1.384615</td>\n",
       "      <td>39</td>\n",
       "    </tr>\n",
       "  </tbody>\n",
       "</table>\n",
       "</div>"
      ],
      "text/plain": [
       "         area_category nama_daerah  luas_tanah  luas_bangunan  jumlah_kamar  \\\n",
       "K Means                                                                       \n",
       "0                    3          11  131.058824      32.823529      3.196078   \n",
       "1                    3          30   84.870968      22.951613      2.564516   \n",
       "2                    1          11  252.151515      78.484848      4.954545   \n",
       "3                    3          73  183.477273      64.522727      4.704545   \n",
       "4                    2    [11, 28]  634.538462     109.384615      6.282051   \n",
       "\n",
       "         jumlah_kamar_mandi  tingkat_lantai  harga_penawaran  terjual_belum  \\\n",
       "K Means                                                                       \n",
       "0                  2.254902        1.450980     1.839275e+09              0   \n",
       "1                  1.693548        1.612903     1.211806e+09              0   \n",
       "2                  4.181818        2.015152     4.684742e+09              0   \n",
       "3                  3.625000        2.056818     3.244681e+09              0   \n",
       "4                  5.230769        1.923077     1.966013e+10              0   \n",
       "\n",
       "         arah_hadapan_rumah posisi_rumah  lebar_jalan_depan_rumah  Count  \n",
       "K Means                                                                   \n",
       "0                         1            5                 2.117647     51  \n",
       "1                         3            2                 0.387097     62  \n",
       "2                         3            5                 2.272727     66  \n",
       "3                         3            2                 0.318182     88  \n",
       "4                         3       [2, 5]                 1.384615     39  "
      ]
     },
     "execution_count": 364,
     "metadata": {},
     "output_type": "execute_result"
    }
   ],
   "source": [
    "df_new.groupby('K Means').agg(\n",
    "area_category = ('Area Category', pd.Series.mode), \n",
    "nama_daerah = ('Nama Daerah', pd.Series.mode),\n",
    "luas_tanah = ('Luas Tanah (m2)', pd.Series.mean),\n",
    "luas_bangunan = ('Luas Bangunan (m2)', pd.Series.mean),\n",
    "jumlah_kamar = ('Jumlah Kamar', pd.Series.mean),\n",
    "jumlah_kamar_mandi = ('Jumlah Kamar Mandi', pd.Series.mean),\n",
    "tingkat_lantai = ('Tingkat/Lantai ', pd.Series.mean), \n",
    "harga_penawaran = ('Harga Penawaran (dari Owner)', pd.Series.mean), \n",
    "terjual_belum = ('Terjual/Belum', pd.Series.mode), \n",
    "arah_hadapan_rumah = ('Arah Hadap Rumah', pd.Series.mode), \n",
    "posisi_rumah = ('Posisi Rumah', pd.Series.mode), \n",
    "lebar_jalan_depan_rumah = ('Lebar Jalan Depan Rumah (ROW)', pd.Series.mean), Count = ('K Means', 'count')\n",
    ")"
   ]
  },
  {
   "cell_type": "code",
   "execution_count": 365,
   "id": "078e6013",
   "metadata": {},
   "outputs": [
    {
     "data": {
      "image/png": "[encoded data removed]",
      "text/plain": [
       "<Figure size 1440x504 with 1 Axes>"
      ]
     },
     "metadata": {
      "needs_background": "light"
     },
     "output_type": "display_data"
    }
   ],
   "source": [
    "#display with the Dendogram for each Linkage\n",
    "plt.figure(figsize=(20,7))\n",
    "linkage_data = linkage(df_scale, method='average', metric='euclidean',)\n",
    "dendrogram(linkage_data)\n",
    "plt.show()"
   ]
  },
  {
   "cell_type": "code",
   "execution_count": 366,
   "id": "84bbaedf",
   "metadata": {},
   "outputs": [
    {
     "data": {
      "image/png": "[encoded data removed]",
      "text/plain": [
       "<Figure size 1440x504 with 1 Axes>"
      ]
     },
     "metadata": {
      "needs_background": "light"
     },
     "output_type": "display_data"
    }
   ],
   "source": [
    "#display with the Dendogram for each Linkage\n",
    "plt.figure(figsize=(20,7))\n",
    "linkage_data = linkage(df_scale, method='single', metric='euclidean',)\n",
    "dendrogram(linkage_data)\n",
    "plt.show()"
   ]
  },
  {
   "cell_type": "code",
   "execution_count": 367,
   "id": "a7933851",
   "metadata": {},
   "outputs": [
    {
     "data": {
      "image/png": "[encoded data removed]",
      "text/plain": [
       "<Figure size 1440x504 with 1 Axes>"
      ]
     },
     "metadata": {
      "needs_background": "light"
     },
     "output_type": "display_data"
    }
   ],
   "source": [
    "#display with the Dendogram for each Linkage\n",
    "plt.figure(figsize=(20,7))\n",
    "linkage_data = linkage(df_scale, method='ward', metric='euclidean',)\n",
    "dendrogram(linkage_data)\n",
    "plt.show()"
   ]
  },
  {
   "cell_type": "code",
   "execution_count": 368,
   "id": "2f90bb32",
   "metadata": {},
   "outputs": [
    {
     "data": {
      "image/png": "[encoded data removed]",
      "text/plain": [
       "<Figure size 1440x504 with 1 Axes>"
      ]
     },
     "metadata": {
      "needs_background": "light"
     },
     "output_type": "display_data"
    }
   ],
   "source": [
    "#display with the Dendogram for each Linkage\n",
    "plt.figure(figsize=(20,7))\n",
    "linkage_data = linkage(df_scale, method='complete', metric='euclidean',)\n",
    "dendrogram(linkage_data)\n",
    "plt.show()"
   ]
  },
  {
   "cell_type": "code",
   "execution_count": 371,
   "id": "8c23fc17",
   "metadata": {},
   "outputs": [],
   "source": [
    "#Clustering Model Hierarchical\n",
    "hc_model = AgglomerativeClustering(n_clusters=4, affinity='euclidean', linkage='single')\n",
    "hc_model.fit_predict(df_scale)\n",
    "labels = hc_model.labels_\n",
    "labels\n",
    "df_new['K Means'] = labels"
   ]
  },
  {
   "cell_type": "code",
   "execution_count": 372,
   "id": "12a6f15f",
   "metadata": {},
   "outputs": [
    {
     "data": {
      "text/html": [
       "<div>\n",
       "<style scoped>\n",
       "    .dataframe tbody tr th:only-of-type {\n",
       "        vertical-align: middle;\n",
       "    }\n",
       "\n",
       "    .dataframe tbody tr th {\n",
       "        vertical-align: top;\n",
       "    }\n",
       "\n",
       "    .dataframe thead th {\n",
       "        text-align: right;\n",
       "    }\n",
       "</style>\n",
       "<table border=\"1\" class=\"dataframe\">\n",
       "  <thead>\n",
       "    <tr style=\"text-align: right;\">\n",
       "      <th></th>\n",
       "      <th>area_category</th>\n",
       "      <th>nama_daerah</th>\n",
       "      <th>luas_tanah</th>\n",
       "      <th>luas_bangunan</th>\n",
       "      <th>jumlah_kamar</th>\n",
       "      <th>jumlah_kamar_mandi</th>\n",
       "      <th>tingkat_lantai</th>\n",
       "      <th>harga_penawaran</th>\n",
       "      <th>terjual_belum</th>\n",
       "      <th>arah_hadapan_rumah</th>\n",
       "      <th>posisi_rumah</th>\n",
       "      <th>lebar_jalan_depan_rumah</th>\n",
       "      <th>Count</th>\n",
       "    </tr>\n",
       "    <tr>\n",
       "      <th>K Means</th>\n",
       "      <th></th>\n",
       "      <th></th>\n",
       "      <th></th>\n",
       "      <th></th>\n",
       "      <th></th>\n",
       "      <th></th>\n",
       "      <th></th>\n",
       "      <th></th>\n",
       "      <th></th>\n",
       "      <th></th>\n",
       "      <th></th>\n",
       "      <th></th>\n",
       "      <th></th>\n",
       "    </tr>\n",
       "  </thead>\n",
       "  <tbody>\n",
       "    <tr>\n",
       "      <th>0</th>\n",
       "      <td>3</td>\n",
       "      <td>11</td>\n",
       "      <td>221.386139</td>\n",
       "      <td>59.09571</td>\n",
       "      <td>4.234323</td>\n",
       "      <td>3.280528</td>\n",
       "      <td>1.844884</td>\n",
       "      <td>4.668828e+09</td>\n",
       "      <td>0</td>\n",
       "      <td>3</td>\n",
       "      <td>2</td>\n",
       "      <td>1.184818</td>\n",
       "      <td>303</td>\n",
       "    </tr>\n",
       "    <tr>\n",
       "      <th>1</th>\n",
       "      <td>2</td>\n",
       "      <td>50</td>\n",
       "      <td>1561.000000</td>\n",
       "      <td>117.00000</td>\n",
       "      <td>5.000000</td>\n",
       "      <td>7.000000</td>\n",
       "      <td>1.000000</td>\n",
       "      <td>1.400000e+10</td>\n",
       "      <td>0</td>\n",
       "      <td>3</td>\n",
       "      <td>2</td>\n",
       "      <td>3.000000</td>\n",
       "      <td>1</td>\n",
       "    </tr>\n",
       "    <tr>\n",
       "      <th>2</th>\n",
       "      <td>3</td>\n",
       "      <td>42</td>\n",
       "      <td>240.000000</td>\n",
       "      <td>89.00000</td>\n",
       "      <td>13.000000</td>\n",
       "      <td>13.000000</td>\n",
       "      <td>2.000000</td>\n",
       "      <td>2.750000e+09</td>\n",
       "      <td>0</td>\n",
       "      <td>1</td>\n",
       "      <td>2</td>\n",
       "      <td>2.000000</td>\n",
       "      <td>1</td>\n",
       "    </tr>\n",
       "    <tr>\n",
       "      <th>3</th>\n",
       "      <td>3</td>\n",
       "      <td>30</td>\n",
       "      <td>600.000000</td>\n",
       "      <td>109.00000</td>\n",
       "      <td>7.000000</td>\n",
       "      <td>5.000000</td>\n",
       "      <td>1.000000</td>\n",
       "      <td>9.900000e+10</td>\n",
       "      <td>0</td>\n",
       "      <td>0</td>\n",
       "      <td>2</td>\n",
       "      <td>0.000000</td>\n",
       "      <td>1</td>\n",
       "    </tr>\n",
       "  </tbody>\n",
       "</table>\n",
       "</div>"
      ],
      "text/plain": [
       "         area_category  nama_daerah   luas_tanah  luas_bangunan  jumlah_kamar  \\\n",
       "K Means                                                                         \n",
       "0                    3           11   221.386139       59.09571      4.234323   \n",
       "1                    2           50  1561.000000      117.00000      5.000000   \n",
       "2                    3           42   240.000000       89.00000     13.000000   \n",
       "3                    3           30   600.000000      109.00000      7.000000   \n",
       "\n",
       "         jumlah_kamar_mandi  tingkat_lantai  harga_penawaran  terjual_belum  \\\n",
       "K Means                                                                       \n",
       "0                  3.280528        1.844884     4.668828e+09              0   \n",
       "1                  7.000000        1.000000     1.400000e+10              0   \n",
       "2                 13.000000        2.000000     2.750000e+09              0   \n",
       "3                  5.000000        1.000000     9.900000e+10              0   \n",
       "\n",
       "         arah_hadapan_rumah  posisi_rumah  lebar_jalan_depan_rumah  Count  \n",
       "K Means                                                                    \n",
       "0                         3             2                 1.184818    303  \n",
       "1                         3             2                 3.000000      1  \n",
       "2                         1             2                 2.000000      1  \n",
       "3                         0             2                 0.000000      1  "
      ]
     },
     "execution_count": 372,
     "metadata": {},
     "output_type": "execute_result"
    }
   ],
   "source": [
    "df_new.groupby('K Means').agg(\n",
    "area_category = ('Area Category', pd.Series.mode), \n",
    "nama_daerah = ('Nama Daerah', pd.Series.mode),\n",
    "luas_tanah = ('Luas Tanah (m2)', pd.Series.mean),\n",
    "luas_bangunan = ('Luas Bangunan (m2)', pd.Series.mean),\n",
    "jumlah_kamar = ('Jumlah Kamar', pd.Series.mean),\n",
    "jumlah_kamar_mandi = ('Jumlah Kamar Mandi', pd.Series.mean),\n",
    "tingkat_lantai = ('Tingkat/Lantai ', pd.Series.mean), \n",
    "harga_penawaran = ('Harga Penawaran (dari Owner)', pd.Series.mean), \n",
    "terjual_belum = ('Terjual/Belum', pd.Series.mode), \n",
    "arah_hadapan_rumah = ('Arah Hadap Rumah', pd.Series.mode), \n",
    "posisi_rumah = ('Posisi Rumah', pd.Series.mode), \n",
    "lebar_jalan_depan_rumah = ('Lebar Jalan Depan Rumah (ROW)', pd.Series.mean), Count = ('K Means', 'count')\n",
    ")"
   ]
  },
  {
   "cell_type": "code",
   "execution_count": null,
   "id": "b6c8ecdd",
   "metadata": {},
   "outputs": [],
   "source": []
  }
 ],
 "metadata": {
  "kernelspec": {
   "display_name": "Python 3",
   "language": "python",
   "name": "python3"
  },
  "language_info": {
   "codemirror_mode": {
    "name": "ipython",
    "version": 3
   },
   "file_extension": ".py",
   "mimetype": "text/x-python",
   "name": "python",
   "nbconvert_exporter": "python",
   "pygments_lexer": "ipython3",
   "version": "3.8.8"
  }
 },
 "nbformat": 4,
 "nbformat_minor": 5
}
